{
 "cells": [
  {
   "cell_type": "code",
   "execution_count": 5,
   "id": "84991a44-c1cd-4d5e-98a5-f871314a9310",
   "metadata": {},
   "outputs": [],
   "source": [
    "import aisuite\n",
    "from aisuite.providers.github_provider import GitHubProvider\n",
    "from aisuite.framework.message import Message"
   ]
  },
  {
   "cell_type": "code",
   "execution_count": 7,
   "id": "fa318efa-dfdc-4d88-9097-666173446be7",
   "metadata": {},
   "outputs": [
    {
     "name": "stdout",
     "output_type": "stream",
     "text": [
      "Response from GitHubProvider:\n",
      "\n",
      "The capital of Germany is Berlin.\n",
      "\n"
     ]
    }
   ],
   "source": [
    "def main():\n",
    "    # Instantiate the GitHubProvider\n",
    "    provider = GitHubProvider()\n",
    "    \n",
    "    # Create a prompt message (as a dictionary in the expected format)\n",
    "    prompt_message = {\n",
    "        \"content\": \"Hello, what is the capital of Germany?\",\n",
    "        \"role\": \"user\"\n",
    "    }\n",
    "    \n",
    "    # Call chat_completions_create to send the prompt and get a response\n",
    "    response = provider.chat_completions_create(\"gpt-4\", [prompt_message])\n",
    "    \n",
    "    # Print the assistant's response\n",
    "    print(\"Response from GitHubProvider:\")\n",
    "    print(response.choices[0].message.content)\n",
    "\n",
    "if __name__ == \"__main__\":\n",
    "    main()"
   ]
  },
  {
   "cell_type": "code",
   "execution_count": null,
   "id": "ac238832-1782-4c8b-916d-fd8818194a4d",
   "metadata": {},
   "outputs": [],
   "source": []
  }
 ],
 "metadata": {
  "kernelspec": {
   "display_name": "Python 3 (ipykernel)",
   "language": "python",
   "name": "python3"
  },
  "language_info": {
   "codemirror_mode": {
    "name": "ipython",
    "version": 3
   },
   "file_extension": ".py",
   "mimetype": "text/x-python",
   "name": "python",
   "nbconvert_exporter": "python",
   "pygments_lexer": "ipython3",
   "version": "3.10.16"
  }
 },
 "nbformat": 4,
 "nbformat_minor": 5
}
