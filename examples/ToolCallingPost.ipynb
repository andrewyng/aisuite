{
 "cells": [
  {
   "cell_type": "code",
   "execution_count": null,
   "id": "9efdda2f-e3ab-4ec3-9b04-3ebea6fdf4c1",
   "metadata": {},
   "outputs": [],
   "source": [
    "import json\n",
    "import sys\n",
    "from dotenv import load_dotenv, find_dotenv\n",
    "import os\n",
    "\n",
    "sys.path.append('../../aisuite')\n",
    "\n",
    "# Load from .env file if available\n",
    "load_dotenv(find_dotenv())"
   ]
  },
  {
   "cell_type": "markdown",
   "id": "b7604862",
   "metadata": {},
   "source": [
    "### Define the function"
   ]
  },
  {
   "cell_type": "code",
   "execution_count": 2,
   "id": "aaba7cb2-29de-4552-8fd5-8b966fbc0cd5",
   "metadata": {},
   "outputs": [],
   "source": [
    "def will_it_rain(location: str, time_of_day: str):\n",
    "    \"\"\"Check if it will rain in a location at a given time today.\n",
    "\n",
    "    Args:\n",
    "        location (str): Name of the city\n",
    "        time_of_day (str): Time of the day in HH:MM format.\n",
    "    \"\"\"\n",
    "    return \"YES\""
   ]
  },
  {
   "cell_type": "markdown",
   "id": "cf943639",
   "metadata": {},
   "source": [
    "---"
   ]
  },
  {
   "cell_type": "markdown",
   "id": "090dc2d1",
   "metadata": {},
   "source": [
    "### Using OpenAI"
   ]
  },
  {
   "cell_type": "markdown",
   "id": "29537ae1",
   "metadata": {},
   "source": [
    "### JSON spec for the function"
   ]
  },
  {
   "cell_type": "code",
   "execution_count": 4,
   "id": "b1a7196a-e5f2-4016-8dca-eca804ef18ac",
   "metadata": {},
   "outputs": [],
   "source": [
    "tools = [{\n",
    "    \"type\": \"function\",\n",
    "    \"function\": {\n",
    "        \"name\": \"will_it_rain\",\n",
    "        \"description\": \"Check if it will rain in a location at a given time today\",\n",
    "        \"parameters\": {\n",
    "            \"type\": \"object\",\n",
    "            \"properties\": {\n",
    "                \"location\": {\n",
    "                    \"type\": \"string\",\n",
    "                    \"description\": \"Name of the city\"\n",
    "                },\n",
    "                \"time_of_day\": {\n",
    "                    \"type\": \"string\",\n",
    "                    \"description\": \"Time of the day in HH:MM format.\"\n",
    "                }\n",
    "            },\n",
    "            \"required\": [\"location\", \"time_of_day\"]\n",
    "        }\n",
    "    }\n",
    "}]"
   ]
  },
  {
   "cell_type": "code",
   "execution_count": 9,
   "id": "4b522391-5a82-4d27-bbad-9db91e531815",
   "metadata": {},
   "outputs": [],
   "source": [
    "from openai import OpenAI\n",
    "\n",
    "client = OpenAI()\n",
    "messages = [{\n",
    "    \"role\": \"user\",\n",
    "    \"content\": \"I live in San Francisco. Can you check for weather \"\n",
    "               \"and plan an outdoor picnic for me at 2pm?\"\n",
    "}]\n",
    "response = client.chat.completions.create(\n",
    "    model=\"gpt-4o\", messages=messages, tools=tools\n",
    ")"
   ]
  },
  {
   "cell_type": "markdown",
   "id": "fc47b536",
   "metadata": {},
   "source": [
    "### Process tool call response & Execute the tool"
   ]
  },
  {
   "cell_type": "code",
   "execution_count": null,
   "id": "d281fe8e-9d87-4150-be4d-f01a2525edf6",
   "metadata": {},
   "outputs": [],
   "source": [
    "response2 = None\n",
    "if response.choices[0].message.tool_calls:\n",
    "    tool_call = response.choices[0].message.tool_calls[0]\n",
    "    args = json.loads(tool_call.function.arguments)\n",
    "\n",
    "    result = will_it_rain(args[\"location\"], args[\"time_of_day\"])\n",
    "    messages.append(response.choices[0].message)\n",
    "    messages.append({\n",
    "        \"role\": \"tool\", \"tool_call_id\": tool_call.id, \"content\": str(result)\n",
    "    })\n",
    "\n",
    "    response2 = client.chat.completions.create(\n",
    "        model=\"gpt-4o\", messages=messages, tools=tools)\n",
    "    print(response2.choices[0].message.content)"
   ]
  },
  {
   "cell_type": "markdown",
   "id": "e81fb905",
   "metadata": {},
   "source": [
    "### Optionally, continue the conversation"
   ]
  },
  {
   "cell_type": "code",
   "execution_count": null,
   "id": "f6de5c21-2983-4539-a4a2-cdd76071fdea",
   "metadata": {},
   "outputs": [],
   "source": [
    "messages.append(response2.choices[0].message)\n",
    "messages.append({\n",
    "    \"role\": \"user\", \"content\": \"Schedule it despite the rain\"\n",
    "})\n",
    "response = client.chat.completions.create(\n",
    "    model=\"openai:gpt-4o\", messages=messages)\n",
    "print(response.choices[0].message.content)"
   ]
  },
  {
   "cell_type": "markdown",
   "id": "f6d5fd91",
   "metadata": {},
   "source": [
    "---"
   ]
  },
  {
   "cell_type": "markdown",
   "id": "897b9aa2",
   "metadata": {},
   "source": [
    "### Using aisuite"
   ]
  },
  {
   "cell_type": "code",
   "execution_count": null,
   "id": "0b74257b-8d53-4326-8ea1-d4a7f89c0e57",
   "metadata": {},
   "outputs": [],
   "source": [
    "from aisuite import Client\n",
    "\n",
    "client = Client()\n",
    "messages = [{\n",
    "    \"role\": \"user\",\n",
    "    \"content\": \"I live in San Francisco. Can you check for weather \"\n",
    "               \"and plan an outdoor picnic for me at 2pm?\"\n",
    "}]\n",
    "response = client.chat.completions.create(\n",
    "    model=\"openai:gpt-4o\", messages=messages, tools=[will_it_rain], max_turns=2\n",
    ")\n",
    "print(response.choices[0].message.content)"
   ]
  },
  {
   "cell_type": "markdown",
   "id": "ba5f0327",
   "metadata": {},
   "source": [
    "### Optionally, continue the conversation"
   ]
  },
  {
   "cell_type": "code",
   "execution_count": null,
   "id": "b1736dc9",
   "metadata": {},
   "outputs": [],
   "source": [
    "messages.extend(response.choices[0].intermediate_messages)\n",
    "messages.append({\n",
    "    \"role\": \"user\", \"content\": \"Schedule it despite the rain\"\n",
    "})\n",
    "response = client.chat.completions.create(\n",
    "    model=\"openai:gpt-4o\", messages=messages)\n",
    "print(response.choices[0].message.content)"
   ]
  },
  {
   "cell_type": "markdown",
   "id": "6bf09c0a",
   "metadata": {},
   "source": [
    "### Using, other providers"
   ]
  },
  {
   "cell_type": "code",
   "execution_count": null,
   "id": "6c266c68-095b-4625-8de5-70960a117f69",
   "metadata": {},
   "outputs": [],
   "source": [
    "messages = [{\n",
    "    \"role\": \"user\",\n",
    "    \"content\": \"I live in San Francisco. Can you check for weather \"\n",
    "               \"and plan an outdoor picnic for me at 2pm?\"\n",
    "}]\n",
    "response = client.chat.completions.create(\n",
    "    model=\"anthropic:claude-3-5-sonnet-20240620\", messages=messages, tools=[will_it_rain], max_turns=2\n",
    ")\n",
    "print(response.choices[0].message.content)"
   ]
  },
  {
   "cell_type": "code",
   "execution_count": null,
   "id": "25a8c5ab-3a9f-4bf1-8174-aba313a00085",
   "metadata": {},
   "outputs": [],
   "source": [
    "response = client.chat.completions.create(\n",
    "    model=\"groq:llama3-8b-8192\", messages=messages, tools=[will_it_rain], max_turns=2)"
   ]
  }
 ],
 "metadata": {
  "kernelspec": {
   "display_name": "Python 3 (ipykernel)",
   "language": "python",
   "name": "python3"
  },
  "language_info": {
   "codemirror_mode": {
    "name": "ipython",
    "version": 3
   },
   "file_extension": ".py",
   "mimetype": "text/x-python",
   "name": "python",
   "nbconvert_exporter": "python",
   "pygments_lexer": "ipython3",
   "version": "3.12.8"
  }
 },
 "nbformat": 4,
 "nbformat_minor": 5
}
